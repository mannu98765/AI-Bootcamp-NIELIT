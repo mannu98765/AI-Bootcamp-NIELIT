{
  "nbformat": 4,
  "nbformat_minor": 0,
  "metadata": {
    "colab": {
      "provenance": []
    },
    "kernelspec": {
      "name": "python3",
      "display_name": "Python 3"
    },
    "language_info": {
      "name": "python"
    }
  },
  "cells": [
    {
      "cell_type": "code",
      "execution_count": 1,
      "metadata": {
        "colab": {
          "base_uri": "https://localhost:8080/"
        },
        "id": "1w33yQcXxiKW",
        "outputId": "9be7aac1-e199-4fd2-b966-74d6e1433c4c"
      },
      "outputs": [
        {
          "output_type": "stream",
          "name": "stdout",
          "text": [
            "Hello,World!\n"
          ]
        }
      ],
      "source": [
        "print(\"Hello,World!\")"
      ]
    },
    {
      "cell_type": "code",
      "source": [
        "a = 5\n",
        "b = 6.5\n",
        "# Addition\n",
        "c = a + b\n",
        "print(\"The sum of two number is\",c)"
      ],
      "metadata": {
        "colab": {
          "base_uri": "https://localhost:8080/"
        },
        "id": "N9uLkXVp0TDX",
        "outputId": "9a8f94ce-cd83-4e1f-a731-876d6912daba"
      },
      "execution_count": 5,
      "outputs": [
        {
          "output_type": "stream",
          "name": "stdout",
          "text": [
            "The sum of two number is 11.5\n"
          ]
        }
      ]
    },
    {
      "cell_type": "code",
      "source": [
        "j = float(input(\"Enter first number: \"))\n",
        "k = float(input(\"Enter second number: \"))\n",
        "l = j*k\n",
        "print(\"The product of two number is\",l)\n"
      ],
      "metadata": {
        "colab": {
          "base_uri": "https://localhost:8080/"
        },
        "id": "U9OF6VZI0yNu",
        "outputId": "49abca0a-2330-4d26-a169-2822f1ae11e5"
      },
      "execution_count": 7,
      "outputs": [
        {
          "output_type": "stream",
          "name": "stdout",
          "text": [
            "Enter first number: 15\n",
            "Enter second number: 25\n",
            "The product of two number is 375.0\n"
          ]
        }
      ]
    }
  ]
}